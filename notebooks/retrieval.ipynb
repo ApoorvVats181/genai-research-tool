{
 "cells": [
  {
   "cell_type": "code",
   "id": "0c2aff87",
   "metadata": {
    "ExecuteTime": {
     "end_time": "2025-04-15T00:40:21.695831Z",
     "start_time": "2025-04-15T00:40:21.048016Z"
    }
   },
   "source": [
    "import os\n",
    "import streamlit as st\n",
    "import pickle\n",
    "import time\n",
    "\n",
    "from langchain_openai import OpenAI\n",
    "from langchain_openai import OpenAI, OpenAIEmbeddings\n",
    "from langchain_community.document_loaders import UnstructuredURLLoader\n",
    "from langchain.text_splitter import RecursiveCharacterTextSplitter\n",
    "from langchain_community.vectorstores import FAISS\n",
    "from langchain.chains import RetrievalQAWithSourcesChain"
   ],
   "outputs": [],
   "execution_count": 1
  },
  {
   "cell_type": "code",
   "id": "80fc5e57",
   "metadata": {
    "ExecuteTime": {
     "end_time": "2025-04-15T00:40:22.541156Z",
     "start_time": "2025-04-15T00:40:22.531940Z"
    }
   },
   "source": [
    "#load openAI api key\n",
    "from dotenv import load_dotenv\n",
    "import os\n",
    "\n",
    "# Load environment variables from .env file\n",
    "load_dotenv()\n",
    "\n",
    "# Now safely get the key\n",
    "api_key = os.getenv(\"OPENAI_API_KEY\")\n",
    "if api_key is None:\n",
    "    raise ValueError(\"OPENAI_API_KEY not found in .env file\")\n",
    "\n",
    "os.environ['OPENAI_API_KEY'] = api_key"
   ],
   "outputs": [],
   "execution_count": 2
  },
  {
   "cell_type": "code",
   "id": "39e721c4",
   "metadata": {
    "ExecuteTime": {
     "end_time": "2025-04-15T00:40:23.899388Z",
     "start_time": "2025-04-15T00:40:23.844124Z"
    }
   },
   "source": [
    "# Initialise LLM with required params\n",
    "llm = OpenAI(temperature=0.9, max_tokens=500) "
   ],
   "outputs": [],
   "execution_count": 3
  },
  {
   "cell_type": "markdown",
   "id": "bd0c3ff7",
   "metadata": {},
   "source": [
    "### (1) Load data"
   ]
  },
  {
   "cell_type": "code",
   "id": "55fa0ef5",
   "metadata": {
    "ExecuteTime": {
     "end_time": "2025-04-15T00:40:54.012083Z",
     "start_time": "2025-04-15T00:40:48.219675Z"
    }
   },
   "source": [
    "loaders = UnstructuredURLLoader(urls=[\n",
    "    \"https://www.moneycontrol.com/news/business/markets/wall-street-rises-as-tesla-soars-on-ai-optimism-11351111.html\",\n",
    "    \"https://www.moneycontrol.com/news/business/tata-motors-launches-punch-icng-price-starts-at-rs-7-1-lakh-11098751.html\"\n",
    "])\n",
    "data = loaders.load() \n",
    "len(data)"
   ],
   "outputs": [
    {
     "data": {
      "text/plain": [
       "2"
      ]
     },
     "execution_count": 4,
     "metadata": {},
     "output_type": "execute_result"
    }
   ],
   "execution_count": 4
  },
  {
   "cell_type": "markdown",
   "id": "9f51a5bd",
   "metadata": {},
   "source": [
    "### (2) Split data to create chunks"
   ]
  },
  {
   "cell_type": "code",
   "id": "054a6361",
   "metadata": {
    "ExecuteTime": {
     "end_time": "2025-04-15T00:41:04.237768Z",
     "start_time": "2025-04-15T00:41:04.234674Z"
    }
   },
   "source": [
    "text_splitter = RecursiveCharacterTextSplitter(\n",
    "    chunk_size=1000,\n",
    "    chunk_overlap=200\n",
    ")\n",
    "\n",
    "# As data is of type documents we can directly use split_documents over split_text in order to get the chunks.\n",
    "docs = text_splitter.split_documents(data)"
   ],
   "outputs": [],
   "execution_count": 5
  },
  {
   "cell_type": "code",
   "id": "379e3d94",
   "metadata": {
    "ExecuteTime": {
     "end_time": "2025-04-15T00:41:07.006795Z",
     "start_time": "2025-04-15T00:41:07.002270Z"
    }
   },
   "source": [
    "len(docs)"
   ],
   "outputs": [
    {
     "data": {
      "text/plain": [
       "17"
      ]
     },
     "execution_count": 6,
     "metadata": {},
     "output_type": "execute_result"
    }
   ],
   "execution_count": 6
  },
  {
   "cell_type": "code",
   "id": "637ee7ae",
   "metadata": {
    "scrolled": true,
    "ExecuteTime": {
     "end_time": "2025-04-15T00:41:08.340878Z",
     "start_time": "2025-04-15T00:41:08.336880Z"
    }
   },
   "source": [
    "docs[0]"
   ],
   "outputs": [
    {
     "data": {
      "text/plain": [
       "Document(metadata={'source': 'https://www.moneycontrol.com/news/business/markets/wall-street-rises-as-tesla-soars-on-ai-optimism-11351111.html'}, page_content='English\\n\\nHindi\\n\\nGujarati\\n\\nSpecials\\n\\nHello, Login\\n\\nHello, Login\\n\\nLog-inor Sign-Up\\n\\nMy Account\\n\\nMy Profile\\n\\nMy Portfolio\\n\\nMy Watchlist\\n\\nMy Alerts\\n\\nMy Messages\\n\\nPrice Alerts\\n\\nMy Profile\\n\\nMy PRO\\n\\nMy Portfolio\\n\\nMy Watchlist\\n\\nMy Alerts\\n\\nMy Messages\\n\\nPrice Alerts\\n\\nLogout\\n\\nLoans up to ₹50 LAKHS\\n\\nFixed Deposits\\n\\nCredit CardsLifetime Free\\n\\nCredit Score\\n\\nChat with Us\\n\\nDownload App\\n\\nFollow us on:\\n\\nNetwork 18\\n\\nGo Ad-Free\\n\\nMy Alerts\\n\\n>->MC_ENG_DESKTOP/MC_ENG_NEWS/MC_ENG_MARKETS_AS/MC_ENG_ROS_NWS_MKTS_AS_ATF_728\\n\\nMoneycontrol\\n\\nGo PRO@₹1/dayPRO\\n\\nMoneycontrol PRO\\n\\nAdvertisement\\n\\nRemove Ad\\n\\nBusiness\\n\\nMarkets\\n\\nStocks\\n\\nEconomy\\n\\nCompanies\\n\\nTrends\\n\\nIPO\\n\\nOpinion\\n\\nEV Special\\n\\nHomeNewsBusinessMarketsWall Street rises as Tesla soars on AI optimism\\n\\nTrending Topics\\n\\nStock Market HolidayBiocon Share PriceBHEL Share PricePharma StocksIT StocksTCS Share Price\\n\\nWall Street rises as Tesla soars on AI optimism')"
      ]
     },
     "execution_count": 7,
     "metadata": {},
     "output_type": "execute_result"
    }
   ],
   "execution_count": 7
  },
  {
   "cell_type": "markdown",
   "id": "9e35a876",
   "metadata": {},
   "source": [
    "### (3) Create embeddings for these chunks and save them to FAISS index"
   ]
  },
  {
   "cell_type": "code",
   "id": "c3d0a6dd",
   "metadata": {
    "ExecuteTime": {
     "end_time": "2025-04-15T00:51:59.566200Z",
     "start_time": "2025-04-15T00:51:56.810243Z"
    }
   },
   "source": [
    "# Create the embeddings of the chunks using openAIEmbeddings\n",
    "embeddings = OpenAIEmbeddings()\n",
    "\n",
    "# Pass the documents and embeddings inorder to create FAISS vector index\n",
    "vectorindex_openai = FAISS.from_documents(docs, embeddings)"
   ],
   "outputs": [],
   "execution_count": 8
  },
  {
   "cell_type": "code",
   "id": "a9686c13",
   "metadata": {
    "ExecuteTime": {
     "end_time": "2025-04-15T01:08:05.879048Z",
     "start_time": "2025-04-15T01:08:05.872649Z"
    }
   },
   "source": "vectorindex_openai.save_local(index_path)",
   "outputs": [],
   "execution_count": 13
  },
  {
   "metadata": {
    "ExecuteTime": {
     "end_time": "2025-04-15T01:08:21.551950Z",
     "start_time": "2025-04-15T01:08:21.546283Z"
    }
   },
   "cell_type": "code",
   "source": [
    "# Load the index with security acknowledgement\n",
    "if os.path.exists(index_path):\n",
    "    try:\n",
    "        loaded_index = FAISS.load_local(\n",
    "            folder_path=index_path,\n",
    "            embeddings=embeddings,\n",
    "            allow_dangerous_deserialization=True  # Required for loading\n",
    "        )\n",
    "        print(\"FAISS index loaded successfully!\")\n",
    "    except Exception as e:\n",
    "        print(f\"Error loading index: {str(e)}\")\n",
    "else:\n",
    "    print(\"No saved index found - create a new one\")"
   ],
   "id": "fa4e57a1a0964d80",
   "outputs": [
    {
     "name": "stdout",
     "output_type": "stream",
     "text": [
      "FAISS index loaded successfully!\n"
     ]
    }
   ],
   "execution_count": 14
  },
  {
   "cell_type": "markdown",
   "id": "fbd96296",
   "metadata": {},
   "source": [
    "### (4) Retrieve similar embeddings for a given question and call LLM to retrieve final answer"
   ]
  },
  {
   "cell_type": "code",
   "id": "01f5e1e8",
   "metadata": {
    "ExecuteTime": {
     "end_time": "2025-04-15T01:10:18.392231Z",
     "start_time": "2025-04-15T01:10:18.353350Z"
    }
   },
   "source": [
    "from langchain.chains import RetrievalQAWithSourcesChain\n",
    "from langchain_openai import ChatOpenAI\n",
    "\n",
    "llm = ChatOpenAI(\n",
    "    model=\"gpt-3.5-turbo\",  # or \"gpt-4-turbo\"\n",
    "    temperature=0.5,\n",
    "    max_tokens=1000\n",
    ")\n",
    "\n",
    "# Create the QA chain with source tracking\n",
    "qa_chain = RetrievalQAWithSourcesChain.from_chain_type(\n",
    "    llm=llm,\n",
    "    chain_type=\"stuff\",  # or \"map_reduce\", \"refine\" for larger docs\n",
    "    retriever=loaded_index.as_retriever(\n",
    "        search_type=\"similarity\",  # or \"mmr\" for diversity\n",
    "        search_kwargs={\"k\": 4}  # Number of docs to retrieve\n",
    "    ),\n",
    "    return_source_documents=True  # Important for source tracking\n",
    ")"
   ],
   "outputs": [],
   "execution_count": 17
  },
  {
   "metadata": {
    "ExecuteTime": {
     "end_time": "2025-04-15T01:15:06.244909Z",
     "start_time": "2025-04-15T01:15:04.591806Z"
    }
   },
   "cell_type": "code",
   "source": [
    "# Example usage:\n",
    "query = \"what is the price of Tiago iCNG?\"\n",
    "result = qa_chain.invoke({\"question\": query})\n",
    "print(f\"Answer: {result['answer']}\")\n",
    "print(f\"Sources: {result['sources']}\")"
   ],
   "id": "d6e60db826ebd2fe",
   "outputs": [
    {
     "name": "stdout",
     "output_type": "stream",
     "text": [
      "Answer: The price of Tiago iCNG is between Rs 6.55 lakh and Rs 8.1 lakh.\n",
      "\n",
      "Sources: https://www.moneycontrol.com/news/business/tata-motors-launches-punch-icng-price-starts-at-rs-7-1-lakh-11098751.html\n"
     ]
    }
   ],
   "execution_count": 19
  },
  {
   "metadata": {},
   "cell_type": "code",
   "outputs": [],
   "execution_count": null,
   "source": "",
   "id": "7e4e3ce94b6afb53"
  }
 ],
 "metadata": {
  "kernelspec": {
   "display_name": "Python 3 (ipykernel)",
   "language": "python",
   "name": "python3"
  },
  "language_info": {
   "codemirror_mode": {
    "name": "ipython",
    "version": 3
   },
   "file_extension": ".py",
   "mimetype": "text/x-python",
   "name": "python",
   "nbconvert_exporter": "python",
   "pygments_lexer": "ipython3",
   "version": "3.10.11"
  }
 },
 "nbformat": 4,
 "nbformat_minor": 5
}
